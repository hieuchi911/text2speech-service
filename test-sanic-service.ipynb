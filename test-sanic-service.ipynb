{
 "cells": [
  {
   "cell_type": "markdown",
   "metadata": {},
   "source": [
    "# Load and test models"
   ]
  },
  {
   "cell_type": "markdown",
   "metadata": {},
   "source": [
    "## TTS with vietTTS\n",
    "https://github.com/NTT123/vietTTS"
   ]
  },
  {
   "cell_type": "code",
   "execution_count": 3,
   "metadata": {},
   "outputs": [
    {
     "name": "stdout",
     "output_type": "stream",
     "text": [
      "/home/hieu/Documents/CT Group/chatbot and NLP/Text-To-Speech-Service/vietTTS\n"
     ]
    }
   ],
   "source": [
    "# !git clone https://github.com/NTT123/vietTTS.git\n",
    "%cd vietTTS\n",
    "# !pip3 install -e ."
   ]
  },
  {
   "cell_type": "code",
   "execution_count": null,
   "metadata": {},
   "outputs": [],
   "source": [
    "# !bash ./scripts/quick_start.sh"
   ]
  },
  {
   "cell_type": "code",
   "execution_count": null,
   "metadata": {},
   "outputs": [],
   "source": [
    "# !echo \"Downloading models...\"\n",
    "# !mkdir -p -p assets/infore/{nat,hifigan}\n",
    "# !gdown --id 16UhN8QBxG1YYwUh8smdEeVnKo9qZhvZj -O assets/infore/nat/duration_latest_ckpt.pickle\n",
    "# !gdown --id 1-8Ig65S3irNHSzcskT37SLgeyuUhjKdj -O assets/infore/nat/acoustic_latest_ckpt.pickle\n",
    "# !gdown --id 10SFOlAduG20TdjGC5e1Jod_vJIpxkD6u -O assets/infore/hifigan/g_00800000\n",
    "# !python -m vietTTS.hifigan.convert_torch_model_to_haiku --config-file=assets/hifigan/config.json --checkpoint-file=assets/infore/hifigan/g_00800000"
   ]
  },
  {
   "cell_type": "code",
   "execution_count": 4,
   "metadata": {},
   "outputs": [
    {
     "name": "stdout",
     "output_type": "stream",
     "text": [
      "matplotlib         3.5.1        \n",
      "matplotlib-inline  0.1.3        \n"
     ]
    }
   ],
   "source": [
    "# !pip install matplotlib\n",
    "!pip list | grep matplotlib"
   ]
  },
  {
   "cell_type": "code",
   "execution_count": 10,
   "metadata": {},
   "outputs": [
    {
     "name": "stdout",
     "output_type": "stream",
     "text": [
      "assets\t  hello.mp3  README.md\tsetup.cfg  tests    vietTTS.egg-info\n",
      "clip.wav  LICENSE    scripts\tsetup.py   vietTTS\n"
     ]
    }
   ],
   "source": [
    "# %cd vietTTS\n",
    "!ls"
   ]
  },
  {
   "cell_type": "code",
   "execution_count": 9,
   "metadata": {},
   "outputs": [
    {
     "name": "stdout",
     "output_type": "stream",
     "text": [
      "/home/hieu/Documents/CT Group/chatbot and NLP/Text-To-Speech-Service/vietTTS\n"
     ]
    }
   ],
   "source": [
    "cd vietTTS"
   ]
  },
  {
   "cell_type": "code",
   "execution_count": 12,
   "metadata": {},
   "outputs": [
    {
     "name": "stdout",
     "output_type": "stream",
     "text": [
      "Normalized text input: metro star - kết nối trọn tinh hoa sp metro star là dự án sở hữu vị trí đắc địa tại thành phố thủ đức sp tọa lạc tại vòng xoay lớn nhất trên xa lộ hà nội sp đại lộ đẹp nhất của phía đông sài gòn sp tại khu dân cư đông đúc sp sầm uất và ngay điểm kết nối với vành đai hai sp qua phạm văn đồng và mai chí thọ sp metro star với thiết kế chuẩn sing ga po cùng một trăm cộng sao tiện ích sp đáp ứng hoàn mỹ một cuộc sống sang trọng sp hiện đại\n",
      "WARNING:absl:No GPU/TPU found, falling back to CPU. (Set TF_CPP_MIN_LOG_LEVEL=0 and rerun for more info.)\n",
      "/home/hieu/Documents/CT Group/chatbot and NLP/Text-To-Speech-Service/tts-venv/lib/python3.8/site-packages/jax/_src/tree_util.py:188: FutureWarning: jax.tree_util.tree_multimap() is deprecated. Please use jax.tree_util.tree_map() instead as a drop-in replacement.\n",
      "  warnings.warn('jax.tree_util.tree_multimap() is deprecated. Please use jax.tree_util.tree_map() '\n",
      "\n",
      "text2mel took:  17.12646985054016\n",
      "\n",
      "forward took:  68.77413153648376\n",
      "\n",
      "mel2wave took:  69.29854989051819\n",
      "writing output to file clip.wav\n"
     ]
    }
   ],
   "source": [
    "!python -m vietTTS.synthesizer \\\n",
    "  --lexicon-file=assets/infore/lexicon.txt \\\n",
    "  --text=\" METRO STAR - KẾT NỐI TRỌN TINH HOA. Metro Star là dự án sở hữu vị trí đắc địa tại thành phố Thủ Đức, tọa lạc tại vòng xoay lớn nhất trên Xa lộ Hà Nội, Đại lộ đẹp nhất của phía Đông Sài Gòn, tại khu dân cư đông đúc, sầm uất và ngay điểm kết nối với Vành đai hai, qua Phạm Văn Đồng và Mai Chí Thọ. Metro Star với thiết kế chuẩn Sing ga po cùng một trăm cộng sao tiện ích, đáp ứng hoàn mỹ một cuộc sống sang trọng, hiện đại\" \\\n",
    "  --output=clip.wav\n"
   ]
  },
  {
   "cell_type": "code",
   "execution_count": 8,
   "metadata": {},
   "outputs": [
    {
     "name": "stdout",
     "output_type": "stream",
     "text": [
      "Normalized text input: text\n",
      "WARNING:absl:No GPU/TPU found, falling back to CPU. (Set TF_CPP_MIN_LOG_LEVEL=0 and rerun for more info.)\n",
      "/home/hieu/Documents/CT Group/chatbot and NLP/Text-To-Speech-Service/tts-venv/lib/python3.8/site-packages/jax/_src/tree_util.py:188: FutureWarning: jax.tree_util.tree_multimap() is deprecated. Please use jax.tree_util.tree_map() instead as a drop-in replacement.\n",
      "  warnings.warn('jax.tree_util.tree_multimap() is deprecated. Please use jax.tree_util.tree_map() '\n",
      "writing output to file assets/infore/clip.wav\n"
     ]
    }
   ],
   "source": [
    "text=open(\"assets/transcript.txt\")\n",
    "!python vietTTS.synthesizer.py --text text --output assets/infore/clip.wav --lexicon-file assets/infore/lexicon.txt --silence-duration 0.2\n"
   ]
  },
  {
   "cell_type": "markdown",
   "metadata": {},
   "source": [
    "## TTS with pyttsx3"
   ]
  },
  {
   "cell_type": "code",
   "execution_count": null,
   "metadata": {},
   "outputs": [],
   "source": [
    "!sudo apt update && sudo apt install espeak ffmpeg libespeak1"
   ]
  },
  {
   "cell_type": "code",
   "execution_count": 1,
   "metadata": {},
   "outputs": [
    {
     "name": "stdout",
     "output_type": "stream",
     "text": [
      "Collecting pyttsx3\n",
      "  Downloading pyttsx3-2.90-py3-none-any.whl (39 kB)\n",
      "Installing collected packages: pyttsx3\n",
      "Successfully installed pyttsx3-2.90\n"
     ]
    }
   ],
   "source": [
    "!pip install pyttsx3"
   ]
  },
  {
   "cell_type": "code",
   "execution_count": 1,
   "metadata": {},
   "outputs": [],
   "source": [
    "import pyttsx3\n",
    "engine = pyttsx3.init()"
   ]
  },
  {
   "cell_type": "code",
   "execution_count": 2,
   "metadata": {},
   "outputs": [],
   "source": [
    "m = engine.getProperty('voices')"
   ]
  },
  {
   "cell_type": "code",
   "execution_count": 15,
   "metadata": {},
   "outputs": [],
   "source": [
    "for voice in engine.getProperty('voices')[50:]:\n",
    "    # print(voice.languages[0])\n",
    "    if b'\\x05vi' in voice.languages:\n",
    "        # print(\"SET!\")\n",
    "        engine.setProperty('voice', voice.id)\n",
    "newVoiceRate = 100\n",
    "engine.setProperty('rate',newVoiceRate)"
   ]
  },
  {
   "cell_type": "code",
   "execution_count": 16,
   "metadata": {},
   "outputs": [],
   "source": [
    "engine.say('METRO STAR - KẾT NỐI TRỌN TINH HOA. Metro Star là dự án sở hữu vị trí đắc địa tại thành phố Thủ Đức, tọa lạc tại vòng xoay lớn nhất trên Xa lộ Hà Nội, Đại lộ đẹp nhất của phía Đông Sài Gòn, tại khu dân cư đông đúc, sầm uất và ngay điểm kết nối với Vành đai hai, qua Phạm Văn Đồng và Mai Chí Thọ. Metro Star với thiết kế chuẩn Sing ga po cùng một trăm cộng sao tiện ích, đáp ứng hoàn mỹ một cuộc sống sang trọng, hiện đại')\n",
    "# engine.say('Nguyễn Trần Chí Hiếu')\n",
    "engine.runAndWait()"
   ]
  },
  {
   "cell_type": "markdown",
   "metadata": {},
   "source": [
    "## TTS with gTTS"
   ]
  },
  {
   "cell_type": "code",
   "execution_count": 1,
   "metadata": {},
   "outputs": [
    {
     "name": "stdout",
     "output_type": "stream",
     "text": [
      "Collecting gTTS\n",
      "  Downloading gTTS-2.2.4-py3-none-any.whl (26 kB)\n",
      "Requirement already satisfied: six in ./tts-venv/lib/python3.8/site-packages (from gTTS) (1.16.0)\n",
      "Collecting click\n",
      "  Using cached click-8.1.2-py3-none-any.whl (96 kB)\n",
      "Requirement already satisfied: requests in ./tts-venv/lib/python3.8/site-packages (from gTTS) (2.27.1)\n",
      "Requirement already satisfied: charset-normalizer~=2.0.0; python_version >= \"3\" in ./tts-venv/lib/python3.8/site-packages (from requests->gTTS) (2.0.12)\n",
      "Requirement already satisfied: urllib3<1.27,>=1.21.1 in ./tts-venv/lib/python3.8/site-packages (from requests->gTTS) (1.26.9)\n",
      "Requirement already satisfied: idna<4,>=2.5; python_version >= \"3\" in ./tts-venv/lib/python3.8/site-packages (from requests->gTTS) (3.3)\n",
      "Requirement already satisfied: certifi>=2017.4.17 in ./tts-venv/lib/python3.8/site-packages (from requests->gTTS) (2021.10.8)\n",
      "Installing collected packages: click, gTTS\n",
      "Successfully installed click-8.1.2 gTTS-2.2.4\n"
     ]
    }
   ],
   "source": [
    "!pip install gTTS"
   ]
  },
  {
   "cell_type": "code",
   "execution_count": 7,
   "metadata": {},
   "outputs": [],
   "source": [
    "from gtts import gTTS\n",
    "\n",
    "text = 'METRO STAR - KẾT NỐI TRỌN TINH HOA. Metro Star là dự án sở hữu vị trí đắc địa tại thành phố Thủ Đức, tọa lạc tại vòng xoay lớn nhất trên Xa lộ Hà Nội, Đại lộ đẹp nhất của phía Đông Sài Gòn, tại khu dân cư đông đúc, sầm uất và ngay điểm kết nối với Vành đai hai, qua Phạm Văn Đồng và Mai Chí Thọ. Metro Star với thiết kế chuẩn Sing ga po cùng một trăm cộng sao tiện ích, đáp ứng hoàn mỹ một cuộc sống sang trọng, hiện đại'\n",
    "tts = gTTS(text, lang='vi')\n",
    "tts.save('hello.mp3')"
   ]
  },
  {
   "cell_type": "markdown",
   "metadata": {},
   "source": [
    "## TTS with tacotron_vietnamese\n",
    "https://github.com/BKThesisTeam/tacotron_vietnamese"
   ]
  },
  {
   "cell_type": "code",
   "execution_count": 8,
   "metadata": {},
   "outputs": [
    {
     "name": "stdout",
     "output_type": "stream",
     "text": [
      "/home/hieu/Documents/CT Group/chatbot and NLP/Text-To-Speech-Service/tacotron_vietnamese\n"
     ]
    }
   ],
   "source": [
    "%cd ../tacotron_vietnamese"
   ]
  },
  {
   "cell_type": "code",
   "execution_count": 9,
   "metadata": {},
   "outputs": [
    {
     "name": "stdout",
     "output_type": "stream",
     "text": [
      "  % Total    % Received % Xferd  Average Speed   Time    Time     Time  Current\n",
      "                                 Dload  Upload   Total   Spent    Left  Speed\n",
      " 44 74.1M   44 33.1M    0     0  30832      0  0:42:01  0:18:48  0:23:13 13893    0     0  34732      0  0:37:18  0:02:54  0:34:24  798836294      0  0:35:42  0:03:57  0:31:45 246992.2M    0     0  36554      0  0:35:27  0:05:52  0:29:35 30960  0  0:35:37  0:07:28  0:28:09 286344.1M   22 16.8M    0     0  35830      0  0:36:10  0:08:12  0:27:58 20386  0     0  34919      0  0:37:06  0:10:53  0:26:13 131828      0  0:37:37  0:12:22  0:25:15 2330133685      0  0:38:28  0:14:21  0:24:07 15168      0  0:38:40  0:14:27  0:24:13  74634:12 16106 0  32548      0  0:39:49  0:15:44  0:24:05 351160:41:02  0:17:42  0:23:20 2830809  0:18:04  0:23:05 34763^C\n"
     ]
    }
   ],
   "source": [
    "!curl http://data.keithito.com/data/speech/tacotron-20170720.tar.bz2 | tar xjC /tmp"
   ]
  },
  {
   "cell_type": "code",
   "execution_count": 15,
   "metadata": {},
   "outputs": [
    {
     "name": "stdout",
     "output_type": "stream",
     "text": [
      "/home/hieu/Documents/CT Group/chatbot and NLP/Text-To-Speech-Service/tacotron_vietnamese/tacotron_vietnamese\n"
     ]
    }
   ],
   "source": [
    "%cd tacotron_vietnamese"
   ]
  },
  {
   "cell_type": "code",
   "execution_count": 19,
   "metadata": {},
   "outputs": [],
   "source": [
    "# !python3 -m venv tctr-venv"
   ]
  },
  {
   "cell_type": "code",
   "execution_count": null,
   "metadata": {},
   "outputs": [],
   "source": [
    "!pip install -r requirements.txt"
   ]
  },
  {
   "cell_type": "code",
   "execution_count": 10,
   "metadata": {},
   "outputs": [
    {
     "name": "stdout",
     "output_type": "stream",
     "text": [
      "/home/hieu/Documents/CT Group/chatbot and NLP/Text-To-Speech-Service/tacotron_vietnamese/tacotron_vietnamese\n"
     ]
    }
   ],
   "source": [
    "cd tacotron_vietnamese/tacotron_vietnamese"
   ]
  },
  {
   "cell_type": "code",
   "execution_count": 15,
   "metadata": {},
   "outputs": [
    {
     "name": "stdout",
     "output_type": "stream",
     "text": [
      "Traceback (most recent call last):\n",
      "  File \"/home/hieu/Documents/CT Group/chatbot and NLP/Text-To-Speech-Service/tacotron_vietnamese/tacotron_vietnamese/tctr-venv/lib/python3.8/site-packages/tensorflow/python/pywrap_tensorflow.py\", line 58, in <module>\n",
      "    from tensorflow.python.pywrap_tensorflow_internal import *\n",
      "  File \"/home/hieu/Documents/CT Group/chatbot and NLP/Text-To-Speech-Service/tacotron_vietnamese/tacotron_vietnamese/tctr-venv/lib/python3.8/site-packages/tensorflow/python/pywrap_tensorflow_internal.py\", line 28, in <module>\n",
      "    _pywrap_tensorflow_internal = swig_import_helper()\n",
      "  File \"/home/hieu/Documents/CT Group/chatbot and NLP/Text-To-Speech-Service/tacotron_vietnamese/tacotron_vietnamese/tctr-venv/lib/python3.8/site-packages/tensorflow/python/pywrap_tensorflow_internal.py\", line 24, in swig_import_helper\n",
      "    _mod = imp.load_module('_pywrap_tensorflow_internal', fp, pathname, description)\n",
      "  File \"/usr/lib/python3.8/imp.py\", line 242, in load_module\n",
      "    return load_dynamic(name, filename, file)\n",
      "  File \"/usr/lib/python3.8/imp.py\", line 342, in load_dynamic\n",
      "    return _load(spec)\n",
      "ImportError: /home/hieu/Documents/CT Group/chatbot and NLP/Text-To-Speech-Service/tacotron_vietnamese/tacotron_vietnamese/tctr-venv/lib/python3.8/site-packages/tensorflow/python/_pywrap_tensorflow_internal.so: invalid ELF header\n",
      "\n",
      "During handling of the above exception, another exception occurred:\n",
      "\n",
      "Traceback (most recent call last):\n",
      "  File \"demo_server.py\", line 3, in <module>\n",
      "    from hparams import hparams, hparams_debug_string\n",
      "  File \"/home/hieu/Documents/CT Group/chatbot and NLP/Text-To-Speech-Service/tacotron_vietnamese/tacotron_vietnamese/hparams.py\", line 1, in <module>\n",
      "    import tensorflow as tf\n",
      "  File \"/home/hieu/Documents/CT Group/chatbot and NLP/Text-To-Speech-Service/tacotron_vietnamese/tacotron_vietnamese/tctr-venv/lib/python3.8/site-packages/tensorflow/__init__.py\", line 24, in <module>\n",
      "    from tensorflow.python import *\n",
      "  File \"/home/hieu/Documents/CT Group/chatbot and NLP/Text-To-Speech-Service/tacotron_vietnamese/tacotron_vietnamese/tctr-venv/lib/python3.8/site-packages/tensorflow/python/__init__.py\", line 49, in <module>\n",
      "    from tensorflow.python import pywrap_tensorflow\n",
      "  File \"/home/hieu/Documents/CT Group/chatbot and NLP/Text-To-Speech-Service/tacotron_vietnamese/tacotron_vietnamese/tctr-venv/lib/python3.8/site-packages/tensorflow/python/pywrap_tensorflow.py\", line 72, in <module>\n",
      "    raise ImportError(msg)\n",
      "ImportError: Traceback (most recent call last):\n",
      "  File \"/home/hieu/Documents/CT Group/chatbot and NLP/Text-To-Speech-Service/tacotron_vietnamese/tacotron_vietnamese/tctr-venv/lib/python3.8/site-packages/tensorflow/python/pywrap_tensorflow.py\", line 58, in <module>\n",
      "    from tensorflow.python.pywrap_tensorflow_internal import *\n",
      "  File \"/home/hieu/Documents/CT Group/chatbot and NLP/Text-To-Speech-Service/tacotron_vietnamese/tacotron_vietnamese/tctr-venv/lib/python3.8/site-packages/tensorflow/python/pywrap_tensorflow_internal.py\", line 28, in <module>\n",
      "    _pywrap_tensorflow_internal = swig_import_helper()\n",
      "  File \"/home/hieu/Documents/CT Group/chatbot and NLP/Text-To-Speech-Service/tacotron_vietnamese/tacotron_vietnamese/tctr-venv/lib/python3.8/site-packages/tensorflow/python/pywrap_tensorflow_internal.py\", line 24, in swig_import_helper\n",
      "    _mod = imp.load_module('_pywrap_tensorflow_internal', fp, pathname, description)\n",
      "  File \"/usr/lib/python3.8/imp.py\", line 242, in load_module\n",
      "    return load_dynamic(name, filename, file)\n",
      "  File \"/usr/lib/python3.8/imp.py\", line 342, in load_dynamic\n",
      "    return _load(spec)\n",
      "ImportError: /home/hieu/Documents/CT Group/chatbot and NLP/Text-To-Speech-Service/tacotron_vietnamese/tacotron_vietnamese/tctr-venv/lib/python3.8/site-packages/tensorflow/python/_pywrap_tensorflow_internal.so: invalid ELF header\n",
      "\n",
      "\n",
      "Failed to load the native TensorFlow runtime.\n",
      "\n",
      "See https://www.tensorflow.org/install/install_sources#common_installation_problems\n",
      "\n",
      "for some common reasons and solutions.  Include the entire stack trace\n",
      "above this error message when asking for help.\n"
     ]
    }
   ],
   "source": [
    "!python demo_server.py --checkpoint /tmp/tacotron-20170720/model.ckpt"
   ]
  },
  {
   "cell_type": "code",
   "execution_count": 13,
   "metadata": {},
   "outputs": [
    {
     "name": "stdout",
     "output_type": "stream",
     "text": [
      "^C\n",
      "Traceback (most recent call last):\n",
      "  File \"/usr/lib/python3.8/runpy.py\", line 194, in _run_module_as_main\n",
      "    return _run_code(code, main_globals, None,\n",
      "  File \"/usr/lib/python3.8/runpy.py\", line 87, in _run_code\n",
      "    exec(code, run_globals)\n",
      "  File \"/home/hieu/Documents/CT Group/chatbot and NLP/Text-To-Speech-Service/tacotron_vietnamese/tacotron_vietnamese/tctr-venv/lib/python3.8/site-packages/pip/__main__.py\", line 19, in <module>\n",
      "    sys.exit(_main())\n",
      "  File \"/home/hieu/Documents/CT Group/chatbot and NLP/Text-To-Speech-Service/tacotron_vietnamese/tacotron_vietnamese/tctr-venv/lib/python3.8/site-packages/pip/_internal/cli/main.py\", line 73, in main\n",
      "    command = create_command(cmd_name, isolated=(\"--isolated\" in cmd_args))\n",
      "  File \"/home/hieu/Documents/CT Group/chatbot and NLP/Text-To-Speech-Service/tacotron_vietnamese/tacotron_vietnamese/tctr-venv/lib/python3.8/site-packages/pip/_internal/commands/__init__.py\", line 96, in create_command\n",
      "    module = importlib.import_module(module_path)\n",
      "  File \"/usr/lib/python3.8/importlib/__init__.py\", line 127, in import_module\n",
      "    return _bootstrap._gcd_import(name[level:], package, level)\n",
      "  File \"<frozen importlib._bootstrap>\", line 1014, in _gcd_import\n",
      "  File \"<frozen importlib._bootstrap>\", line 991, in _find_and_load\n",
      "  File \"<frozen importlib._bootstrap>\", line 975, in _find_and_load_unlocked\n",
      "  File \"<frozen importlib._bootstrap>\", line 671, in _load_unlocked\n",
      "  File \"<frozen importlib._bootstrap_external>\", line 848, in exec_module\n",
      "  File \"<frozen importlib._bootstrap>\", line 219, in _call_with_frames_removed\n",
      "  File \"/home/hieu/Documents/CT Group/chatbot and NLP/Text-To-Speech-Service/tacotron_vietnamese/tacotron_vietnamese/tctr-venv/lib/python3.8/site-packages/pip/_internal/commands/install.py\", line 24, in <module>\n",
      "    from pip._internal.cli.req_command import RequirementCommand\n",
      "  File \"/home/hieu/Documents/CT Group/chatbot and NLP/Text-To-Speech-Service/tacotron_vietnamese/tacotron_vietnamese/tctr-venv/lib/python3.8/site-packages/pip/_internal/cli/req_command.py\", line 15, in <module>\n",
      "    from pip._internal.index.package_finder import PackageFinder\n",
      "  File \"/home/hieu/Documents/CT Group/chatbot and NLP/Text-To-Speech-Service/tacotron_vietnamese/tacotron_vietnamese/tctr-venv/lib/python3.8/site-packages/pip/_internal/index/package_finder.py\", line 21, in <module>\n",
      "    from pip._internal.index.collector import parse_links\n",
      "  File \"/home/hieu/Documents/CT Group/chatbot and NLP/Text-To-Speech-Service/tacotron_vietnamese/tacotron_vietnamese/tctr-venv/lib/python3.8/site-packages/pip/_internal/index/collector.py\", line 13, in <module>\n",
      "    from pip._vendor.distlib.compat import unescape\n",
      "  File \"<frozen importlib._bootstrap>\", line 991, in _find_and_load\n",
      "  File \"<frozen importlib._bootstrap>\", line 975, in _find_and_load_unlocked\n",
      "  File \"<frozen importlib._bootstrap>\", line 655, in _load_unlocked\n",
      "  File \"<frozen importlib._bootstrap>\", line 618, in _load_backward_compatible\n",
      "  File \"<frozen zipimport>\", line 241, in load_module\n",
      "  File \"<frozen zipimport>\", line 713, in _get_module_code\n",
      "  File \"<frozen zipimport>\", line 647, in _compile_source\n",
      "KeyboardInterrupt\n",
      "Note: you may need to restart the kernel to use updated packages.\n"
     ]
    }
   ],
   "source": [
    "pip install falcon"
   ]
  },
  {
   "cell_type": "markdown",
   "metadata": {},
   "source": [
    "## TTS with rhasspy\n"
   ]
  },
  {
   "cell_type": "code",
   "execution_count": 7,
   "metadata": {},
   "outputs": [
    {
     "name": "stdout",
     "output_type": "stream",
     "text": [
      "[sudo] password for hieu: \n"
     ]
    }
   ],
   "source": [
    "!sudo docker run -dp 12101:12101 \\\n",
    "      --name rhasspy \\\n",
    "      --restart unless-stopped \\\n",
    "      -v \"$HOME/.config/rhasspy/profiles:/profiles\" \\\n",
    "      -v \"/etc/localtime:/etc/localtime:ro\" \\\n",
    "      --device /dev/snd:/dev/snd \\\n",
    "      rhasspy/rhasspy \\\n",
    "      --user-profiles /profiles \\\n",
    "      --profile en"
   ]
  },
  {
   "cell_type": "markdown",
   "metadata": {},
   "source": [
    "## TTS with fairseq + hifigan\n",
    "https://huggingface.co/facebook/tts_transformer-vi-cv7"
   ]
  },
  {
   "cell_type": "code",
   "execution_count": 7,
   "metadata": {},
   "outputs": [
    {
     "name": "stdout",
     "output_type": "stream",
     "text": [
      "app.py      \u001b[0m\u001b[01;34mfairseq-venv\u001b[0m/     \u001b[01;34mtacotron_vietnamese\u001b[0m/      \u001b[01;34mtts-venv\u001b[0m/\n",
      "dockerfile  hello.mp3         test-sanic-service.ipynb  \u001b[01;34mvietTTS\u001b[0m/\n",
      "\u001b[01;34mfairseq\u001b[0m/    requirements.txt  \u001b[01;34mtts_transformer-vi-cv7\u001b[0m/\n"
     ]
    }
   ],
   "source": [
    "ls"
   ]
  },
  {
   "cell_type": "code",
   "execution_count": 8,
   "metadata": {},
   "outputs": [
    {
     "name": "stdout",
     "output_type": "stream",
     "text": [
      "Cloning into 'fairseq'...\n",
      "remote: Enumerating objects: 31225, done.\u001b[K\n",
      "remote: Total 31225 (delta 0), reused 0 (delta 0), pack-reused 31225\u001b[K\n",
      "Receiving objects: 100% (31225/31225), 21.47 MiB | 2.79 MiB/s, done.\n",
      "Resolving deltas: 100% (23050/23050), done.\n",
      "/home/hieu/Documents/CT Group/chatbot and NLP/Text-To-Speech-Service/fairseq\n",
      "Obtaining file:///home/hieu/Documents/CT%20Group/chatbot%20and%20NLP/Text-To-Speech-Service/fairseq\n",
      "  Installing build dependencies ... \u001b[?25ldone\n",
      "\u001b[?25h  Getting requirements to build wheel ... \u001b[?25ldone\n",
      "\u001b[?25h  Installing backend dependencies ... \u001b[?25ldone\n",
      "\u001b[?25h    Preparing wheel metadata ... \u001b[?25ldone\n",
      "\u001b[?25hRequirement already satisfied: sacrebleu>=1.4.12 in /home/hieu/Documents/CT Group/chatbot and NLP/Text-To-Speech-Service/fairseq-venv/lib/python3.8/site-packages (from fairseq==1.0.0a0+0b54d9f) (2.0.0)\n",
      "Collecting hydra-core<1.1,>=1.0.7\n",
      "  Using cached hydra_core-1.0.7-py3-none-any.whl (123 kB)\n",
      "Requirement already satisfied: regex in /home/hieu/Documents/CT Group/chatbot and NLP/Text-To-Speech-Service/fairseq-venv/lib/python3.8/site-packages (from fairseq==1.0.0a0+0b54d9f) (2022.4.24)\n",
      "Requirement already satisfied: numpy; python_version >= \"3.7\" in /home/hieu/Documents/CT Group/chatbot and NLP/Text-To-Speech-Service/fairseq-venv/lib/python3.8/site-packages (from fairseq==1.0.0a0+0b54d9f) (1.22.3)\n",
      "Requirement already satisfied: cffi in /home/hieu/Documents/CT Group/chatbot and NLP/Text-To-Speech-Service/fairseq-venv/lib/python3.8/site-packages (from fairseq==1.0.0a0+0b54d9f) (1.15.0)\n",
      "Collecting omegaconf<2.1\n",
      "  Using cached omegaconf-2.0.6-py3-none-any.whl (36 kB)\n",
      "Collecting bitarray\n",
      "  Using cached bitarray-2.4.1-cp38-cp38-manylinux_2_17_x86_64.manylinux2014_x86_64.whl (229 kB)\n",
      "Requirement already satisfied: cython in /home/hieu/Documents/CT Group/chatbot and NLP/Text-To-Speech-Service/fairseq-venv/lib/python3.8/site-packages (from fairseq==1.0.0a0+0b54d9f) (0.29.28)\n",
      "Requirement already satisfied: torch in /home/hieu/Documents/CT Group/chatbot and NLP/Text-To-Speech-Service/fairseq-venv/lib/python3.8/site-packages (from fairseq==1.0.0a0+0b54d9f) (1.11.0)\n",
      "Collecting torchaudio>=0.8.0\n",
      "  Using cached torchaudio-0.11.0-cp38-cp38-manylinux1_x86_64.whl (2.9 MB)\n",
      "Requirement already satisfied: tqdm in /home/hieu/Documents/CT Group/chatbot and NLP/Text-To-Speech-Service/fairseq-venv/lib/python3.8/site-packages (from fairseq==1.0.0a0+0b54d9f) (4.64.0)\n",
      "Requirement already satisfied: colorama in /home/hieu/Documents/CT Group/chatbot and NLP/Text-To-Speech-Service/fairseq-venv/lib/python3.8/site-packages (from sacrebleu>=1.4.12->fairseq==1.0.0a0+0b54d9f) (0.4.4)\n",
      "Requirement already satisfied: portalocker in /home/hieu/Documents/CT Group/chatbot and NLP/Text-To-Speech-Service/fairseq-venv/lib/python3.8/site-packages (from sacrebleu>=1.4.12->fairseq==1.0.0a0+0b54d9f) (2.4.0)\n",
      "Requirement already satisfied: tabulate>=0.8.9 in /home/hieu/Documents/CT Group/chatbot and NLP/Text-To-Speech-Service/fairseq-venv/lib/python3.8/site-packages (from sacrebleu>=1.4.12->fairseq==1.0.0a0+0b54d9f) (0.8.9)\n",
      "Requirement already satisfied: importlib-resources; python_version < \"3.9\" in /home/hieu/Documents/CT Group/chatbot and NLP/Text-To-Speech-Service/fairseq-venv/lib/python3.8/site-packages (from hydra-core<1.1,>=1.0.7->fairseq==1.0.0a0+0b54d9f) (5.2.3)\n",
      "Requirement already satisfied: antlr4-python3-runtime==4.8 in /home/hieu/Documents/CT Group/chatbot and NLP/Text-To-Speech-Service/fairseq-venv/lib/python3.8/site-packages (from hydra-core<1.1,>=1.0.7->fairseq==1.0.0a0+0b54d9f) (4.8)\n",
      "Requirement already satisfied: pycparser in /home/hieu/Documents/CT Group/chatbot and NLP/Text-To-Speech-Service/fairseq-venv/lib/python3.8/site-packages (from cffi->fairseq==1.0.0a0+0b54d9f) (2.21)\n",
      "Requirement already satisfied: typing-extensions in /home/hieu/Documents/CT Group/chatbot and NLP/Text-To-Speech-Service/fairseq-venv/lib/python3.8/site-packages (from omegaconf<2.1->fairseq==1.0.0a0+0b54d9f) (4.2.0)\n",
      "Requirement already satisfied: PyYAML>=5.1.* in /home/hieu/Documents/CT Group/chatbot and NLP/Text-To-Speech-Service/fairseq-venv/lib/python3.8/site-packages (from omegaconf<2.1->fairseq==1.0.0a0+0b54d9f) (6.0)\n",
      "Requirement already satisfied: zipp>=3.1.0; python_version < \"3.10\" in /home/hieu/Documents/CT Group/chatbot and NLP/Text-To-Speech-Service/fairseq-venv/lib/python3.8/site-packages (from importlib-resources; python_version < \"3.9\"->hydra-core<1.1,>=1.0.7->fairseq==1.0.0a0+0b54d9f) (3.8.0)\n",
      "Installing collected packages: omegaconf, hydra-core, bitarray, torchaudio, fairseq\n",
      "  Attempting uninstall: omegaconf\n",
      "    Found existing installation: omegaconf 2.1.2\n",
      "    Uninstalling omegaconf-2.1.2:\n",
      "      Successfully uninstalled omegaconf-2.1.2\n",
      "  Attempting uninstall: hydra-core\n",
      "    Found existing installation: hydra-core 1.1.2\n",
      "    Uninstalling hydra-core-1.1.2:\n",
      "      Successfully uninstalled hydra-core-1.1.2\n",
      "  Running setup.py develop for fairseq\n",
      "Successfully installed bitarray-2.4.1 fairseq hydra-core-1.0.7 omegaconf-2.0.6 torchaudio-0.11.0\n"
     ]
    }
   ],
   "source": [
    "# !git lfs install\n",
    "# !git clone https://huggingface.co/facebook/tts_transformer-vi-cv7\n",
    "\n",
    "!git clone https://github.com/pytorch/fairseq\n",
    "%cd fairseq\n",
    "!pip install --editable ./\n",
    "# !pip install huggingface-hub\n",
    "# !pip install phonemizer\n",
    "# !pip install sentencepiece\n",
    "# !pip install torch\n",
    "# !sudo apt install espeak\n"
   ]
  },
  {
   "cell_type": "code",
   "execution_count": 1,
   "metadata": {},
   "outputs": [
    {
     "name": "stderr",
     "output_type": "stream",
     "text": [
      "/home/hieu/Documents/CT Group/chatbot and NLP/Text-To-Speech-Service/fairseq-venv/lib/python3.8/site-packages/tqdm/auto.py:22: TqdmWarning: IProgress not found. Please update jupyter and ipywidgets. See https://ipywidgets.readthedocs.io/en/stable/user_install.html\n",
      "  from .autonotebook import tqdm as notebook_tqdm\n",
      "2022-04-29 14:07:02 | INFO | fairseq.tasks.text_to_speech | Please install tensorboardX: pip install tensorboardX\n",
      "2022-04-29 14:07:05.675626: W tensorflow/stream_executor/platform/default/dso_loader.cc:64] Could not load dynamic library 'libcudart.so.11.0'; dlerror: libcudart.so.11.0: cannot open shared object file: No such file or directory\n",
      "2022-04-29 14:07:05.675684: I tensorflow/stream_executor/cuda/cudart_stub.cc:29] Ignore above cudart dlerror if you do not have a GPU set up on your machine.\n",
      "2022-04-29 14:07:32 | INFO | fairseq.tasks.speech_to_text | dictionary size (spm_char.txt): 90\n",
      "2022-04-29 14:07:35 | INFO | fairseq.models.text_to_speech.vocoder | loaded HiFiGAN checkpoint from /home/hieu/.cache/fairseq/facebook--tts_transformer-vi-cv7.main.84fbc5b133e6724954f30470fcdd172a9e128795/hifigan.bin\n",
      "2022-04-29 14:07:37 | INFO | fairseq.models.text_to_speech.vocoder | loaded HiFiGAN checkpoint from /home/hieu/.cache/fairseq/facebook--tts_transformer-vi-cv7.main.84fbc5b133e6724954f30470fcdd172a9e128795/hifigan.bin\n"
     ]
    }
   ],
   "source": [
    "from fairseq.checkpoint_utils import load_model_ensemble_and_task_from_hf_hub\n",
    "from fairseq.models.text_to_speech.hub_interface import TTSHubInterface\n",
    "import IPython.display as ipd\n",
    "\n",
    "\n",
    "models, cfg, task = load_model_ensemble_and_task_from_hf_hub(\n",
    "    \"facebook/tts_transformer-vi-cv7\",\n",
    "    arg_overrides={\"vocoder\": \"hifigan\", \"fp16\": False}\n",
    ")\n",
    "\n",
    "model = models\n",
    "# print(type(model))\n",
    "TTSHubInterface.update_cfg_with_data_cfg(cfg, task.data_cfg)\n",
    "generator = task.build_generator(model, cfg)\n",
    "\n"
   ]
  },
  {
   "cell_type": "code",
   "execution_count": 13,
   "metadata": {},
   "outputs": [
    {
     "name": "stderr",
     "output_type": "stream",
     "text": [
      "2022-04-29 14:23:05 | WARNING | phonemizer | words count mismatch on 100.0% of the lines (1/1)\n",
      "2022-04-29 14:23:15 | WARNING | phonemizer | words count mismatch on 100.0% of the lines (1/1)\n",
      "2022-04-29 14:23:28 | WARNING | phonemizer | words count mismatch on 100.0% of the lines (1/1)\n"
     ]
    }
   ],
   "source": [
    "text = {\"1\": \"với thiết kế chuẩn Sing ga po cùng một trăm\",\n",
    "        \"2\": \"cộng sao tiện ích, đáp ứng hoàn mỹ một cuộc\",\n",
    "        \"3\": \"sống sang trọng, hiện đại\"}\n",
    "\n",
    "for i in text.items():\n",
    "    sample = TTSHubInterface.get_model_input(task, i[1])\n",
    "    wav, rate = TTSHubInterface.get_prediction(task, model[0], generator, sample)\n",
    "\n",
    "    ipd.Audio(wav, rate=rate)\n",
    "    with open(f'test{i[0]}.wav', 'wb') as f:\n",
    "        f.write(ipd.Audio(wav, rate=rate).data)"
   ]
  },
  {
   "cell_type": "code",
   "execution_count": 2,
   "metadata": {},
   "outputs": [
    {
     "name": "stderr",
     "output_type": "stream",
     "text": [
      "2022-04-29 14:07:56 | WARNING | phonemizer | words count mismatch on 100.0% of the lines (1/1)\n",
      "[W NNPACK.cpp:51] Could not initialize NNPACK! Reason: Unsupported hardware.\n"
     ]
    },
    {
     "name": "stdout",
     "output_type": "stream",
     "text": [
      "\n",
      "sample took:  0.8468952178955078\n",
      "\n",
      "wav rate took:  11.389010429382324\n",
      "\n",
      "ipd.Audio took:  0.045984745025634766\n"
     ]
    }
   ],
   "source": [
    "import time\n",
    "text = \"Xin chào\"\n",
    "\n",
    "start = time.time()\n",
    "sample = TTSHubInterface.get_model_input(task, text)\n",
    "end = time.time()\n",
    "print(\"\\nsample took: \", end - start)\n",
    "\n",
    "\n",
    "start = time.time()\n",
    "wav, rate = TTSHubInterface.get_prediction(task, model[0], generator, sample)\n",
    "\n",
    "wav = wav.to('cpu')\n",
    "end = time.time()\n",
    "print(\"\\nwav rate took: \", end - start)\n",
    "\n",
    "start = time.time()\n",
    "ipd.Audio(wav, rate=rate)\n",
    "end = time.time()\n",
    "print(\"\\nipd.Audio took: \", end - start)"
   ]
  },
  {
   "cell_type": "markdown",
   "metadata": {},
   "source": [
    "# Test sanic service"
   ]
  },
  {
   "cell_type": "code",
   "execution_count": 4,
   "metadata": {},
   "outputs": [
    {
     "name": "stdout",
     "output_type": "stream",
     "text": [
      "Requirement already satisfied: certifi in ./tts-bg-venv/lib/python3.8/site-packages (2022.6.15)\n",
      "Collecting idna\n",
      "  Using cached idna-3.3-py3-none-any.whl (61 kB)\n",
      "Installing collected packages: idna\n",
      "Successfully installed idna-3.3\n"
     ]
    }
   ],
   "source": [
    "# Install these so lib requests can be used\n",
    "!pip install certifi\n",
    "!pip install idna"
   ]
  },
  {
   "cell_type": "code",
   "execution_count": 5,
   "metadata": {},
   "outputs": [],
   "source": [
    "import requests\n",
    "import json\n",
    "# uid: user id\n",
    "# slot[\"name\"]: audio file name\n",
    "# slot[\"value\"]: text to be converted to speech\n",
    "\n",
    "request_obj = {'uid': 10002, 'slot': {\"name\": \"name\", \"value\": \"Lê Minh Tú bây bì\"}}\n",
    "stt_server = 'http://localhost:8000/to-speech'\n",
    "\n",
    "text = requests.post(stt_server, data=json.dumps(request_obj))"
   ]
  },
  {
   "cell_type": "code",
   "execution_count": 6,
   "metadata": {},
   "outputs": [
    {
     "name": "stdout",
     "output_type": "stream",
     "text": [
      "{\"url\":\"audio\\/user-10002\\/name.wav\"}\n"
     ]
    }
   ],
   "source": [
    "print(text.text)    # this prints out path to the output audio file"
   ]
  }
 ],
 "metadata": {
  "interpreter": {
   "hash": "d2b9313a5ac1dd114cb80c590fd5994e6bb5ba093af05652baffc6e4ba6c0185"
  },
  "kernelspec": {
   "display_name": "Python 3.8.10 ('nmt-env': venv)",
   "language": "python",
   "name": "python3"
  },
  "language_info": {
   "codemirror_mode": {
    "name": "ipython",
    "version": 3
   },
   "file_extension": ".py",
   "mimetype": "text/x-python",
   "name": "python",
   "nbconvert_exporter": "python",
   "pygments_lexer": "ipython3",
   "version": "3.8.10"
  },
  "orig_nbformat": 4
 },
 "nbformat": 4,
 "nbformat_minor": 2
}
